{
  "nbformat": 4,
  "nbformat_minor": 0,
  "metadata": {
    "colab": {
      "name": "Example_EDF_vs_Uncontrolled",
      "version": "0.3.2",
      "provenance": [],
      "collapsed_sections": [],
      "include_colab_link": true
    },
    "kernelspec": {
      "name": "python3",
      "display_name": "Python 3"
    }
  },
  "cells": [
    {
      "cell_type": "markdown",
      "metadata": {
        "id": "view-in-github",
        "colab_type": "text"
      },
      "source": [
        "<a href=\"https://colab.research.google.com/github/zach401/acnsim-edf-vs-uncontrolled/blob/master/Example_EDF_vs_Uncontrolled.ipynb\" target=\"_parent\"><img src=\"https://colab.research.google.com/assets/colab-badge.svg\" alt=\"Open In Colab\"/></a>"
      ]
    },
    {
      "cell_type": "markdown",
      "metadata": {
        "id": "_g6gR_TFrvrD",
        "colab_type": "text"
      },
      "source": [
        "*If  running in a new enviroment, such as Google Colab, run this first.*"
      ]
    },
    {
      "cell_type": "code",
      "metadata": {
        "id": "QNvuvHNKcO-_",
        "colab_type": "code",
        "colab": {}
      },
      "source": [
        "!git clone https://github.com/zach401/acnportal.git\n",
        "!pip install acnportal/."
      ],
      "execution_count": 0,
      "outputs": []
    },
    {
      "cell_type": "markdown",
      "metadata": {
        "id": "VHhXqHtv-4SW",
        "colab_type": "text"
      },
      "source": [
        "# ACN-Sim Example\n",
        "## Comparing EDF and Uncontrolled Charging\n",
        "### by Zachary Lee\n",
        "#### Last updated: 04/19/2019\n",
        "\n",
        "In this example we implement a custom version of the Earliest Deadline First algorithm and compare it with Uncontrolled Charging. We show how easy it is to implement a custom algorithm using ACN-Sim as well as the simplicity of running a common experiment."
      ]
    },
    {
      "cell_type": "markdown",
      "metadata": {
        "id": "wMHqJ1W7-4SY",
        "colab_type": "text"
      },
      "source": [
        "## Custom Algorithm\n",
        "\n",
        "All custom algorithms inherit from the abstract class BaseAlgorithm. It is the responsibility of all derived classes to implement the schedule method. This method takes as an input a list of EVs which are currently connected to the system but have not yet finished charging. Its output is a dictionary which maps a station_id to a list of charging rates. Each charging rate is valid for one period measured relative to the current period.\n",
        "\n",
        "For Example: \n",
        " * schedule[‘abc’][0] is the charging rate for station ‘abc’ during the current period \n",
        " * schedule[‘abc’][1] is the charging rate for the next period \n",
        " * and so on. "
      ]
    },
    {
      "cell_type": "markdown",
      "metadata": {
        "id": "cq601Vl2-4Sa",
        "colab_type": "text"
      },
      "source": [
        "#### def __init__(self, increment=1):\n",
        "\n",
        "We can override the __init__() method if we need to pass additional configuration information to the algorithm. In this case we pass in the increment which will be used when searching for a feasible rate."
      ]
    },
    {
      "cell_type": "markdown",
      "metadata": {
        "id": "7-QAjYg8-4Sc",
        "colab_type": "text"
      },
      "source": [
        "#### schedule(self, active_evs)\n",
        "\n",
        "We next need to override the schedule() method. The signature of this method should remain the same, as it is called internally in Simulator. If an algorithm needs additional parameters consider passing them through the constructor."
      ]
    },
    {
      "cell_type": "code",
      "metadata": {
        "id": "m_xedEwU-4Sd",
        "colab_type": "code",
        "colab": {}
      },
      "source": [
        "from acnportal.algorithms import BaseAlgorithm\n",
        "\n",
        "class EarliestDeadlineFirstAlgo(BaseAlgorithm):\n",
        "    \"\"\" Algorithm which assigns charging rates to each EV in order or departure time.\n",
        "\n",
        "    Implements abstract class BaseAlgorithm.\n",
        "\n",
        "    For this algorithm EVs will first be sorted by departure time. We will then allocate as much\n",
        "    current as possible to each EV in order until the EV is finished charging or an infrastructure\n",
        "    limit is met.\n",
        "\n",
        "    Args:\n",
        "        increment (number): Minimum increment of charging rate. Default: 1.\n",
        "    \"\"\"\n",
        "    def __init__(self, increment=1):\n",
        "        super().__init__()\n",
        "        self._increment = increment\n",
        "\n",
        "    def schedule(self, active_evs):\n",
        "        schedule = {ev.station_id: [0] for ev in active_evs}\n",
        "\n",
        "        # Next, we sort the active_evs by their departure time.\n",
        "        sorted_evs = sorted(active_evs, key=lambda x: x.departure)\n",
        "\n",
        "        # We now iterate over the sorted list of EVs.\n",
        "        for ev in sorted_evs:\n",
        "            # First try to charge the EV at its maximum rate. Remember that each schedule value\n",
        "            #   must be a list, even if it only has one element.\n",
        "            schedule[ev.station_id] = [self.interface.max_pilot_signal(ev.station_id)]\n",
        "\n",
        "            # If this is not feasible, we will reduce the rate.\n",
        "            #   interface.is_feasible() is one way to interact with the constraint set\n",
        "            #   of the network. We will explore another more direct method in lesson 3.\n",
        "            while not self.interface.is_feasible(schedule, 0):\n",
        "\n",
        "                # Since the maximum rate was not feasible, we should try a lower rate.\n",
        "                schedule[ev.station_id][0] -= self._increment\n",
        "\n",
        "                # EVs should never charge below 0 (i.e. discharge) so we will clip the value at 0.\n",
        "                if schedule[ev.station_id][0] < 0:\n",
        "                    schedule[ev.station_id] = [0]\n",
        "                    break\n",
        "        return schedule"
      ],
      "execution_count": 0,
      "outputs": []
    },
    {
      "cell_type": "markdown",
      "metadata": {
        "id": "V68Z25_f-4Si",
        "colab_type": "text"
      },
      "source": [
        "Note the structure of the schedule dict which is returned should be something like:\n",
        "\n",
        "```\n",
        "{\n",
        "    'CA-301': [32, 32, 32, 16, 16, ..., 8],\n",
        "    'CA-302': [8, 13, 13, 15, 6, ..., 0],\n",
        "    ...,\n",
        "    'CA-408': [24, 24, 24, 24, 0, ..., 0]\n",
        "}\n",
        "```\n",
        "For the special case when an algorithm only calculates a target rate for the next time interval instead of an entire schedule of rates, the structure should be:\n",
        "\n",
        "```\n",
        "{\n",
        "    'CA-301': [32],\n",
        "    'CA-302': [8],\n",
        "    ...,\n",
        "    'CA-408': [24]\n",
        "}\n",
        "```\n",
        "\n",
        "Note that these are single element lists and NOT floats or integers."
      ]
    },
    {
      "cell_type": "markdown",
      "metadata": {
        "id": "riiaUaCi-4Sk",
        "colab_type": "text"
      },
      "source": [
        "## Running the Algorithm\n",
        "\n",
        "Now that we have implemented our algorithm, we can try it out. ACN-Sim provides useful utilities to make defining an experiment and running a simulation extremely simple. "
      ]
    },
    {
      "cell_type": "code",
      "metadata": {
        "id": "7MuY4pRk-4Sl",
        "colab_type": "code",
        "colab": {}
      },
      "source": [
        "from datetime import datetime\n",
        "import pytz\n",
        "import matplotlib.pyplot as plt\n",
        "import seaborn as sns\n",
        "sns.set(style='ticks', palette='Set2')\n",
        "from copy import deepcopy\n",
        "\n",
        "from acnportal.algorithms import SortedSchedulingAlgo, UncontrolledCharging\n",
        "from acnportal.algorithms import earliest_deadline_first\n",
        "from acnportal.acnsim.events import acndata_events\n",
        "from acnportal.acnsim.network.sites import CaltechACN\n",
        "from acnportal.acnsim.analysis import *\n",
        "from acnportal.acnsim import Simulator\n",
        "\n",
        "\n",
        "# -- Experiment Parameters ---------------------------------------------------------------------------------------------\n",
        "timezone = pytz.timezone('America/Los_Angeles')\n",
        "start = datetime(2018, 9, 5).astimezone(timezone)\n",
        "end = datetime(2018, 9, 6).astimezone(timezone)\n",
        "period = 5  # minute\n",
        "voltage = 220  # volts\n",
        "max_rate = 32 # amps\n",
        "site = 'caltech'\n",
        "\n",
        "# -- Network -----------------------------------------------------------------------------------------------------------\n",
        "cn = CaltechACN(basic_evse=True)\n",
        "\n",
        "# -- Events ------------------------------------------------------------------------------------------------------------\n",
        "API_KEY = 'DEMO_TOKEN'\n",
        "events = acndata_events.generate_events(API_KEY, site, start, end, period, voltage, max_rate)\n",
        "\n",
        "\n",
        "# -- Scheduling Algorithm ----------------------------------------------------------------------------------------------\n",
        "schEDF = EarliestDeadlineFirstAlgo(increment=1)\n",
        "schUC = UncontrolledCharging()"
      ],
      "execution_count": 0,
      "outputs": []
    },
    {
      "cell_type": "code",
      "metadata": {
        "id": "0UVaTAlf-4Sn",
        "colab_type": "code",
        "colab": {}
      },
      "source": [
        "%%capture\n",
        "# -- Simulator ---------------------------------------------------------------------------------------------------------\n",
        "simEDF = Simulator(deepcopy(cn), schEDF, deepcopy(events), start, period=period, max_recomp=1)\n",
        "simEDF.run()"
      ],
      "execution_count": 0,
      "outputs": []
    },
    {
      "cell_type": "code",
      "metadata": {
        "id": "Z1nxR-Z3HcDn",
        "colab_type": "code",
        "colab": {}
      },
      "source": [
        "%%capture\n",
        "# For comparison we will also run the builtin UncontrolledCharging algorithm\n",
        "simUC = Simulator(deepcopy(cn), schUC, deepcopy(events), start, period=period, max_recomp=1)\n",
        "simUC.run()"
      ],
      "execution_count": 0,
      "outputs": []
    },
    {
      "cell_type": "markdown",
      "metadata": {
        "id": "p16wMPJb-4Sr",
        "colab_type": "text"
      },
      "source": [
        "## Results\n",
        "\n",
        "We can now compare the two algorithms side by side by looking that the plots of aggregated current. \n",
        "\n",
        "We can see from this plot that UncontrolledCharging peaks before EDF and at a higher rate. This is because UncontrolledCharging does not factor in the constraints of infrastructure."
      ]
    },
    {
      "cell_type": "code",
      "metadata": {
        "id": "O5JX0Olf-4Ss",
        "colab_type": "code",
        "colab": {}
      },
      "source": [
        "%matplotlib inline \n",
        "plt.plot(aggregate_current(simEDF), label='Earliest Deadline First', alpha=0.75)\n",
        "plt.plot(aggregate_current(simUC), label='Uncontrolled Charging', alpha=0.75)\n",
        "plt.xlim(125, 325)\n",
        "plt.legend()\n",
        "plt.xlabel('Time (periods)')\n",
        "plt.ylabel('Current (A)')\n",
        "plt.title('Total Aggregate Current')\n",
        "plt.show()"
      ],
      "execution_count": 0,
      "outputs": []
    },
    {
      "cell_type": "markdown",
      "metadata": {
        "id": "yaBhsCwhduVf",
        "colab_type": "text"
      },
      "source": [
        "To see this more clearly, we can example line currents in the three-phase system. Here we plot the line currents at the secondary side of the Caltech ACN transformer. We also include the current limit for these lines as a grey dashed line. We can see that in the uncontrolled case, the current in line A exceeds its limit, while in our EDF algorithm, all currents are below their limits. "
      ]
    },
    {
      "cell_type": "code",
      "metadata": {
        "id": "bSQEQmwh-4Su",
        "colab_type": "code",
        "colab": {}
      },
      "source": [
        "cc_EDF = constraint_currents(simEDF)\n",
        "cc_UC = constraint_currents(simUC)\n",
        "\n",
        "fig, axes = plt.subplots(1, 2, sharey=True, sharex=True, figsize=(5,2.5))\n",
        "fig.subplots_adjust(wspace=0.07)\n",
        "axes[0].set_xlim(125, 325)\n",
        "\n",
        "for line in 'ABC': \n",
        "  axes[0].plot(cc_EDF['Secondary {0}'.format(line)], label=line)\n",
        "  axes[1].plot(cc_UC['Secondary {0}'.format(line)], label=line)\n",
        "\n",
        "axes[0].axhline(420, color='gray', linestyle='--')\n",
        "axes[1].axhline(420, color='gray', linestyle='--')\n",
        "  \n",
        "axes[1].legend()\n",
        "axes[0].set_xlabel('Time (periods)')\n",
        "axes[1].set_xlabel('Time (periods)')\n",
        "axes[0].set_ylabel('Current (A)')\n",
        "sns.despine()\n",
        "plt.show()"
      ],
      "execution_count": 0,
      "outputs": []
    },
    {
      "cell_type": "code",
      "metadata": {
        "id": "skFhr5uNNCbv",
        "colab_type": "code",
        "colab": {}
      },
      "source": [
        ""
      ],
      "execution_count": 0,
      "outputs": []
    }
  ]
}